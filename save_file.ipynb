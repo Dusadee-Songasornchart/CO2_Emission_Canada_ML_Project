{
 "cells": [
  {
   "cell_type": "code",
   "execution_count": null,
   "metadata": {},
   "outputs": [],
   "source": [
    "bar_mean = []\n",
    "bar_std = []\n",
    "bar_param = []\n",
    "bar_rank_test = []\n",
    "means = grid_result.cv_results_['mean_test_score']\n",
    "stds = grid_result.cv_results_['std_test_score']\n",
    "params = grid_result.cv_results_['params']\n",
    "rank_tests = grid_result.cv_results_['rank_test_score']\n",
    "\n",
    "\n",
    "for mean, stdev,rank_test_score, param in zip(means, rank_tests,stds, params):\n",
    "    print(\"%f (%f), %f with: %r\" % (mean, stdev, rank_test_score ,param))\n",
    "    bar_mean.append(mean)\n",
    "    bar_std.append(stdev)\n",
    "    bar_rank_test.append(rank_test_score)\n",
    "    bar_param.append(param)\n",
    "\n",
    "from matplotlib.pylab import rcParams   \n",
    "import matplotlib as mpl\n",
    "\n",
    "x = np.arange(len(bar_mean))\n",
    "w = 0.5\n",
    "fig, ax = plt.subplots()\n",
    "fig = plt.title('Criterion : grid_Search')\n",
    "rect1 = plt.bar(x-w/2,bar_mean,w,color = 'b')\n",
    "rect2 = plt.bar(x+w/2,bar_std,w,color = 'r')\n",
    "rect3 = plt.bar(x,bar_rank_test,w,color = 'g')\n",
    "ax.set_xticks(x, labels= bar_param,rotation = 90,fontsize = 60)\n",
    "mpl.rcParams['figure.figsize'] = 100,50 \n",
    "plt.subplots_adjust(bottom=0.50)\n",
    "plt.show()"
   ]
  }
 ],
 "metadata": {
  "kernelspec": {
   "display_name": "Python 3.10.8 64-bit",
   "language": "python",
   "name": "python3"
  },
  "language_info": {
   "name": "python",
   "version": "3.10.8"
  },
  "orig_nbformat": 4,
  "vscode": {
   "interpreter": {
    "hash": "0d72b21489300652f2337cd7f80c57cc00ce6bbc92cf98d285c178d0a8ced433"
   }
  }
 },
 "nbformat": 4,
 "nbformat_minor": 2
}
